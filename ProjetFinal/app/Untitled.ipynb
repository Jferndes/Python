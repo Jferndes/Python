{
 "cells": [
  {
   "cell_type": "code",
   "execution_count": null,
   "id": "f95d8537",
   "metadata": {},
   "outputs": [],
   "source": [
    "from src.DataLoader import *\n",
    "from src.Modelisation import *\n",
    "from src.Visualisation import *"
   ]
  },
  {
   "cell_type": "code",
   "execution_count": null,
   "id": "2b65d750",
   "metadata": {},
   "outputs": [],
   "source": [
    "cheminCSV = \"../data/sport_clean.csv\"\n",
    "dfSport = loadData(cheminCSV)\n",
    "print(dfSport.head())"
   ]
  },
  {
   "cell_type": "code",
   "execution_count": null,
   "id": "240f0846",
   "metadata": {},
   "outputs": [],
   "source": [
    "x,y,a,b,rCarre = modeliserActiviteLineaire(dfSport, 'velo')\n",
    "print(f\"a: {a}, b: {b}, r²: {rCarre}\")"
   ]
  },
  {
   "cell_type": "code",
   "execution_count": null,
   "id": "8628d2fc",
   "metadata": {},
   "outputs": [],
   "source": []
  },
  {
   "cell_type": "code",
   "execution_count": null,
   "id": "90d374d2",
   "metadata": {},
   "outputs": [],
   "source": []
  }
 ],
 "metadata": {
  "kernelspec": {
   "display_name": "venv",
   "language": "python",
   "name": "python3"
  },
  "language_info": {
   "codemirror_mode": {
    "name": "ipython",
    "version": 3
   },
   "file_extension": ".py",
   "mimetype": "text/x-python",
   "name": "python",
   "nbconvert_exporter": "python",
   "pygments_lexer": "ipython3",
   "version": "3.13.9"
  }
 },
 "nbformat": 4,
 "nbformat_minor": 5
}
